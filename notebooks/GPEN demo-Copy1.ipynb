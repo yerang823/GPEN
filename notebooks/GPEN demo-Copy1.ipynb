{
 "cells": [
  {
   "cell_type": "code",
   "execution_count": 1,
   "id": "01a50dc7",
   "metadata": {},
   "outputs": [
    {
     "name": "stdout",
     "output_type": "stream",
     "text": [
      "/opt/conda/bin/python\r\n"
     ]
    }
   ],
   "source": [
    "!which python"
   ]
  },
  {
   "cell_type": "code",
   "execution_count": 2,
   "id": "700132af",
   "metadata": {
    "scrolled": true
   },
   "outputs": [],
   "source": [
    "import os\n",
    "CODE_DIR = '../../GPEN'\n",
    "os.chdir(f'./{CODE_DIR}')"
   ]
  },
  {
   "cell_type": "code",
   "execution_count": 3,
   "id": "17be7084",
   "metadata": {},
   "outputs": [],
   "source": [
    "# enhance faces\n",
    "import os\n",
    "import cv2\n",
    "import numpy as np\n",
    "import matplotlib.pyplot as plt"
   ]
  },
  {
   "cell_type": "code",
   "execution_count": 4,
   "id": "5d7634a6",
   "metadata": {},
   "outputs": [],
   "source": [
    "import __init_paths\n",
    "from face_enhancement import FaceEnhancement"
   ]
  },
  {
   "cell_type": "code",
   "execution_count": 5,
   "id": "3dc06907",
   "metadata": {},
   "outputs": [],
   "source": [
    "def faceEnhance(img, filename='output.jpg', sr_scale=2, sr_size=512, tile_size=64):\n",
    "    model = {'name':'GPEN-BFR-512', 'sr_model':'realesrnet', 'sr_scale': int(sr_scale), 'size': sr_size, 'channel_multiplier':2, 'narrow':1}\n",
    "    outdir = 'examples/outs-bfr'\n",
    "    os.makedirs(outdir, exist_ok=True)\n",
    "    faceenhancer = FaceEnhancement(in_size=model['size'], model=model['name'], use_sr=True, sr_model=model['sr_model'], sr_scale=model['sr_scale'], tile_size=int(tile_size), channel_multiplier=model['channel_multiplier'], narrow=model['narrow'])\n",
    "    img_out, orig_faces, enhanced_faces = faceenhancer.process(img, aligned=False)\n",
    "    img = cv2.resize(img, img_out.shape[:2][::-1])\n",
    "    cv2.imwrite(os.path.join(outdir, '.'.join(filename.split('.')[:-1])+'_COMP.jpg'), np.hstack((img, img_out)))\n",
    "    cv2.imwrite(os.path.join(outdir, '.'.join(filename.split('.')[:-1])+'_GPEN.jpg'), img_out)\n",
    "    for m, (ef, of) in enumerate(zip(enhanced_faces, orig_faces)):\n",
    "        of = cv2.resize(of, ef.shape[:2])\n",
    "        cv2.imwrite(os.path.join(outdir, '.'.join(filename.split('.')[:-1])+'_face%02d'%m+'.jpg'), np.hstack((of, ef)))\n",
    "\n",
    "    return img_out"
   ]
  },
  {
   "cell_type": "code",
   "execution_count": 6,
   "id": "a50e5bfb",
   "metadata": {},
   "outputs": [],
   "source": [
    "import numpy as np\n",
    "import gradio as gr"
   ]
  },
  {
   "cell_type": "code",
   "execution_count": 7,
   "id": "8884fafa",
   "metadata": {},
   "outputs": [],
   "source": [
    "# demo = gr.Blocks()\n",
    "\n",
    "\n",
    "# with demo:\n",
    "#     gr.Markdown(\"face Enhancement.\")\n",
    "#     with gr.Tabs():\n",
    "#         with gr.TabItem(\"faceEnhancement\"):\n",
    "\n",
    "#             with gr.Row():\n",
    "#                 with gr.Column():\n",
    "#                     image_input = gr.Image()\n",
    "#                     text_input = gr.Text()\n",
    "#                 image_output = gr.Image()\n",
    "#             image_button = gr.Button(\"Run\")\n",
    "#     image_button.click(faceEnhance, inputs=[image_input, text_input], outputs=image_output)\n",
    "\n",
    "# demo.launch(server_name='0.0.0.0')\n",
    "        \n",
    "    "
   ]
  },
  {
   "cell_type": "code",
   "execution_count": 8,
   "id": "c0a3753e",
   "metadata": {},
   "outputs": [
    {
     "name": "stderr",
     "output_type": "stream",
     "text": [
      "/opt/conda/lib/python3.8/site-packages/gradio/deprecation.py:40: UserWarning: `optional` parameter is deprecated, and it has no effect\n",
      "  warnings.warn(value)\n"
     ]
    },
    {
     "name": "stdout",
     "output_type": "stream",
     "text": [
      "Running on local URL:  http://localhost:7860/\n",
      "\n",
      "To create a public link, set `share=True` in `launch()`.\n"
     ]
    },
    {
     "data": {
      "text/html": [
       "\n",
       "        <iframe\n",
       "            width=\"900\"\n",
       "            height=\"500\"\n",
       "            src=\"http://localhost:7860/\"\n",
       "            frameborder=\"0\"\n",
       "            allowfullscreen\n",
       "        ></iframe>\n",
       "        "
      ],
      "text/plain": [
       "<IPython.lib.display.IFrame at 0x7fd4112bb340>"
      ]
     },
     "metadata": {},
     "output_type": "display_data"
    },
    {
     "data": {
      "text/plain": [
       "(<gradio.routes.App at 0x7fd419df68b0>, 'http://localhost:7860/', None)"
      ]
     },
     "execution_count": 8,
     "metadata": {},
     "output_type": "execute_result"
    },
    {
     "name": "stderr",
     "output_type": "stream",
     "text": [
      "Traceback (most recent call last):\n",
      "  File \"/opt/conda/lib/python3.8/site-packages/gradio/routes.py\", line 281, in predict\n",
      "    output = await app.blocks.process_api(body, username, session_state)\n",
      "  File \"/opt/conda/lib/python3.8/site-packages/gradio/blocks.py\", line 356, in process_api\n",
      "    predictions = await run_in_threadpool(block_fn.fn, *processed_input)\n",
      "  File \"/opt/conda/lib/python3.8/site-packages/starlette/concurrency.py\", line 41, in run_in_threadpool\n",
      "    return await anyio.to_thread.run_sync(func, *args)\n",
      "  File \"/opt/conda/lib/python3.8/site-packages/anyio/to_thread.py\", line 31, in run_sync\n",
      "    return await get_asynclib().run_sync_in_worker_thread(\n",
      "  File \"/opt/conda/lib/python3.8/site-packages/anyio/_backends/_asyncio.py\", line 937, in run_sync_in_worker_thread\n",
      "    return await future\n",
      "  File \"/opt/conda/lib/python3.8/site-packages/anyio/_backends/_asyncio.py\", line 867, in run\n",
      "    result = context.run(func, *args)\n",
      "  File \"/opt/conda/lib/python3.8/site-packages/gradio/interface.py\", line 491, in <lambda>\n",
      "    lambda *args: self.run_prediction(args)[0]\n",
      "  File \"/opt/conda/lib/python3.8/site-packages/gradio/interface.py\", line 673, in run_prediction\n",
      "    prediction = predict_fn(*processed_input)\n",
      "  File \"/tmp/ipykernel_4121267/4008144307.py\", line 7, in faceEnhance\n",
      "    img_out, orig_faces, enhanced_faces = faceenhancer.process(img.copy(), aligned=False)\n",
      "  File \"/data/jw93/GETTY/GPEN/face_enhancement.py\", line 80, in process\n",
      "    of, tfm_inv = warp_and_crop_face(img, facial5points, reference_pts=self.reference_5pts, crop_size=(self.in_size, self.in_size))\n",
      "  File \"/data/jw93/GETTY/GPEN/align_faces.py\", line 264, in warp_and_crop_face\n",
      "    face_img = cv2.warpAffine(src_img, tfm, (crop_size[0], crop_size[1]), flags=3)\n",
      "cv2.error: OpenCV(4.5.5) :-1: error: (-5:Bad argument) in function 'warpAffine'\n",
      "> Overload resolution failed:\n",
      ">  - Can't parse 'dsize'. Sequence item with index 0 has a wrong type\n",
      ">  - Can't parse 'dsize'. Sequence item with index 0 has a wrong type\n",
      "\n"
     ]
    }
   ],
   "source": [
    "gr.Interface(\n",
    "    faceEnhance,\n",
    "    inputs=[\n",
    "        gr.inputs.Image(),\n",
    "        gr.Text(),\n",
    "        gr.Radio(['2', '4'], value='2'),\n",
    "        gr.Number(value=512),\n",
    "        gr.Number(value=64),\n",
    "    ],\n",
    "    outputs=gr.outputs.Image()\n",
    ").launch(server_name='0.0.0.0')\n",
    "        \n",
    "    "
   ]
  },
  {
   "cell_type": "code",
   "execution_count": null,
   "id": "97d51b07",
   "metadata": {},
   "outputs": [],
   "source": []
  }
 ],
 "metadata": {
  "interpreter": {
   "hash": "d4d1e4263499bec80672ea0156c357c1ee493ec2b1c70f0acce89fc37c4a6abe"
  },
  "kernelspec": {
   "display_name": "base",
   "language": "python",
   "name": "base"
  },
  "language_info": {
   "codemirror_mode": {
    "name": "ipython",
    "version": 3
   },
   "file_extension": ".py",
   "mimetype": "text/x-python",
   "name": "python",
   "nbconvert_exporter": "python",
   "pygments_lexer": "ipython3",
   "version": "3.8.10"
  }
 },
 "nbformat": 4,
 "nbformat_minor": 5
}
