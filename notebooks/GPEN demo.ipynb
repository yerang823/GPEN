{
 "cells": [
  {
   "cell_type": "code",
   "execution_count": 1,
   "id": "700132af",
   "metadata": {
    "scrolled": true
   },
   "outputs": [],
   "source": [
    "import os\n",
    "os.environ[\"CUDA_DEVICE_ORDER\"]=\"PCI_BUS_ID\"\n",
    "os.environ[\"CUDA_VISIBLE_DEVICES\"]=\"0\"\n",
    "CODE_DIR = '../../GPEN'\n",
    "os.chdir(f'./{CODE_DIR}')"
   ]
  },
  {
   "cell_type": "code",
   "execution_count": 2,
   "id": "17be7084",
   "metadata": {},
   "outputs": [],
   "source": [
    "# enhance faces\n",
    "import os\n",
    "import cv2\n",
    "import numpy as np\n",
    "import matplotlib.pyplot as plt"
   ]
  },
  {
   "cell_type": "code",
   "execution_count": 3,
   "id": "5d7634a6",
   "metadata": {},
   "outputs": [],
   "source": [
    "import __init_paths\n",
    "from face_enhancement import FaceEnhancement"
   ]
  },
  {
   "cell_type": "code",
   "execution_count": 4,
   "id": "3dc06907",
   "metadata": {},
   "outputs": [],
   "source": [
    "def faceEnhance(img, filename='output.jpg', sr_scale=2, sr_size=512, tile_size=64):\n",
    "    model = {'name':'GPEN-BFR-512', 'sr_model':'realesrnet', 'sr_scale': int(sr_scale), 'size': int(sr_size), 'channel_multiplier':2, 'narrow':1}\n",
    "    outdir = 'examples/outs-bfr'\n",
    "    os.makedirs(outdir, exist_ok=True)\n",
    "    faceenhancer = FaceEnhancement(in_size=model['size'], model=model['name'], use_sr=True, sr_model=model['sr_model'], sr_scale=model['sr_scale'], tile_size=int(tile_size), channel_multiplier=model['channel_multiplier'], narrow=model['narrow'])\n",
    "    img_out, orig_faces, enhanced_faces = faceenhancer.process(img, aligned=False)\n",
    "    img = cv2.resize(img, img_out.shape[:2][::-1])\n",
    "    cv2.imwrite(os.path.join(outdir, '.'.join(filename.split('.')[:-1])+'_COMP.jpg'), np.hstack((img, img_out)))\n",
    "    cv2.imwrite(os.path.join(outdir, '.'.join(filename.split('.')[:-1])+'_GPEN.jpg'), img_out)\n",
    "    for m, (ef, of) in enumerate(zip(enhanced_faces, orig_faces)):\n",
    "        of = cv2.resize(of, ef.shape[:2])\n",
    "        cv2.imwrite(os.path.join(outdir, '.'.join(filename.split('.')[:-1])+'_face%02d'%m+'.jpg'), np.hstack((of, ef)))\n",
    "\n",
    "    return img_out"
   ]
  },
  {
   "cell_type": "code",
   "execution_count": 5,
   "id": "a50e5bfb",
   "metadata": {},
   "outputs": [],
   "source": [
    "import numpy as np\n",
    "import gradio as gr"
   ]
  },
  {
   "cell_type": "code",
   "execution_count": 6,
   "id": "8884fafa",
   "metadata": {},
   "outputs": [],
   "source": [
    "# demo = gr.Blocks()\n",
    "\n",
    "\n",
    "# with demo:\n",
    "#     gr.Markdown(\"face Enhancement.\")\n",
    "#     with gr.Tabs():\n",
    "#         with gr.TabItem(\"faceEnhancement\"):\n",
    "\n",
    "#             with gr.Row():\n",
    "#                 with gr.Column():\n",
    "#                     image_input = gr.Image()\n",
    "#                     text_input = gr.Text()\n",
    "#                 image_output = gr.Image()\n",
    "#             image_button = gr.Button(\"Run\")\n",
    "#     image_button.click(faceEnhance, inputs=[image_input, text_input], outputs=image_output)\n",
    "\n",
    "# demo.launch(server_name='0.0.0.0')\n",
    "        \n",
    "    "
   ]
  },
  {
   "cell_type": "code",
   "execution_count": 7,
   "id": "c0a3753e",
   "metadata": {},
   "outputs": [
    {
     "name": "stderr",
     "output_type": "stream",
     "text": [
      "/opt/conda/lib/python3.8/site-packages/gradio/deprecation.py:40: UserWarning: `optional` parameter is deprecated, and it has no effect\n",
      "  warnings.warn(value)\n"
     ]
    },
    {
     "name": "stdout",
     "output_type": "stream",
     "text": [
      "Running on local URL:  http://localhost:7860/\n",
      "\n",
      "To create a public link, set `share=True` in `launch()`.\n"
     ]
    },
    {
     "data": {
      "text/html": [
       "\n",
       "        <iframe\n",
       "            width=\"900\"\n",
       "            height=\"500\"\n",
       "            src=\"http://localhost:7860/\"\n",
       "            frameborder=\"0\"\n",
       "            allowfullscreen\n",
       "        ></iframe>\n",
       "        "
      ],
      "text/plain": [
       "<IPython.lib.display.IFrame at 0x7f6d9e8c81c0>"
      ]
     },
     "metadata": {},
     "output_type": "display_data"
    },
    {
     "data": {
      "text/plain": [
       "(<gradio.routes.App at 0x7f6da73fb2b0>, 'http://localhost:7860/', None)"
      ]
     },
     "execution_count": 7,
     "metadata": {},
     "output_type": "execute_result"
    }
   ],
   "source": [
    "gr.Interface(\n",
    "    faceEnhance,\n",
    "    inputs=[\n",
    "        gr.inputs.Image(),\n",
    "        gr.Text(),\n",
    "        gr.Radio(['2', '4'], value='2'),\n",
    "        gr.Number(value=512),\n",
    "        gr.Number(value=64),\n",
    "    ],\n",
    "    outputs=gr.outputs.Image()\n",
    ").launch(server_name='0.0.0.0')\n",
    "        \n",
    "    "
   ]
  },
  {
   "cell_type": "code",
   "execution_count": 8,
   "id": "97d51b07",
   "metadata": {
    "scrolled": true
   },
   "outputs": [
    {
     "name": "stdout",
     "output_type": "stream",
     "text": [
      "Wed Jun 29 09:45:06 2022       \n",
      "+-----------------------------------------------------------------------------+\n",
      "| NVIDIA-SMI 470.103.01   Driver Version: 470.103.01   CUDA Version: 11.4     |\n",
      "|-------------------------------+----------------------+----------------------+\n",
      "| GPU  Name        Persistence-M| Bus-Id        Disp.A | Volatile Uncorr. ECC |\n",
      "| Fan  Temp  Perf  Pwr:Usage/Cap|         Memory-Usage | GPU-Util  Compute M. |\n",
      "|                               |                      |               MIG M. |\n",
      "|===============================+======================+======================|\n",
      "|   0  NVIDIA GeForce ...  On   | 00000000:3F:00.0 Off |                  N/A |\n",
      "| 39%   26C    P2   100W / 350W |   1250MiB / 24268MiB |      0%      Default |\n",
      "|                               |                      |                  N/A |\n",
      "+-------------------------------+----------------------+----------------------+\n",
      "                                                                               \n",
      "+-----------------------------------------------------------------------------+\n",
      "| Processes:                                                                  |\n",
      "|  GPU   GI   CI        PID   Type   Process name                  GPU Memory |\n",
      "|        ID   ID                                                   Usage      |\n",
      "|=============================================================================|\n",
      "+-----------------------------------------------------------------------------+\n",
      "\tTile 10/1190\n",
      "\tTile 20/1190\n",
      "\tTile 30/1190\n",
      "\tTile 40/1190\n",
      "\tTile 50/1190\n",
      "\tTile 60/1190\n",
      "\tTile 70/1190\n",
      "\tTile 80/1190\n",
      "\tTile 90/1190\n",
      "\tTile 100/1190\n",
      "\tTile 110/1190\n",
      "\tTile 120/1190\n",
      "\tTile 130/1190\n",
      "\tTile 140/1190\n",
      "\tTile 150/1190\n",
      "\tTile 160/1190\n",
      "\tTile 170/1190\n",
      "\tTile 180/1190\n",
      "\tTile 190/1190\n",
      "\tTile 200/1190\n",
      "\tTile 210/1190\n",
      "\tTile 220/1190\n",
      "\tTile 230/1190\n",
      "\tTile 240/1190\n",
      "\tTile 250/1190\n",
      "\tTile 260/1190\n",
      "\tTile 270/1190\n",
      "\tTile 280/1190\n",
      "\tTile 290/1190\n",
      "\tTile 300/1190\n",
      "\tTile 310/1190\n",
      "\tTile 320/1190\n",
      "\tTile 330/1190\n",
      "\tTile 340/1190\n",
      "\tTile 350/1190\n",
      "\tTile 360/1190\n",
      "\tTile 370/1190\n",
      "\tTile 380/1190\n",
      "\tTile 390/1190\n",
      "\tTile 400/1190\n",
      "\tTile 410/1190\n",
      "\tTile 420/1190\n",
      "\tTile 430/1190\n",
      "\tTile 440/1190\n",
      "\tTile 450/1190\n",
      "\tTile 460/1190\n",
      "\tTile 470/1190\n",
      "\tTile 480/1190\n",
      "\tTile 490/1190\n",
      "\tTile 500/1190\n",
      "\tTile 510/1190\n",
      "\tTile 520/1190\n",
      "\tTile 530/1190\n",
      "\tTile 540/1190\n",
      "\tTile 550/1190\n",
      "\tTile 560/1190\n",
      "\tTile 570/1190\n",
      "\tTile 580/1190\n",
      "\tTile 590/1190\n",
      "\tTile 600/1190\n",
      "\tTile 610/1190\n",
      "\tTile 620/1190\n",
      "\tTile 630/1190\n",
      "\tTile 640/1190\n",
      "\tTile 650/1190\n",
      "\tTile 660/1190\n",
      "\tTile 670/1190\n",
      "\tTile 680/1190\n",
      "\tTile 690/1190\n",
      "\tTile 700/1190\n",
      "\tTile 710/1190\n",
      "\tTile 720/1190\n",
      "\tTile 730/1190\n",
      "\tTile 740/1190\n",
      "\tTile 750/1190\n",
      "\tTile 760/1190\n",
      "\tTile 770/1190\n",
      "\tTile 780/1190\n",
      "\tTile 790/1190\n",
      "\tTile 800/1190\n",
      "\tTile 810/1190\n",
      "\tTile 820/1190\n",
      "\tTile 830/1190\n",
      "\tTile 840/1190\n",
      "\tTile 850/1190\n",
      "\tTile 860/1190\n",
      "\tTile 870/1190\n",
      "\tTile 880/1190\n",
      "\tTile 890/1190\n",
      "\tTile 900/1190\n",
      "\tTile 910/1190\n",
      "\tTile 920/1190\n",
      "\tTile 930/1190\n",
      "\tTile 940/1190\n",
      "\tTile 950/1190\n",
      "\tTile 960/1190\n",
      "\tTile 970/1190\n",
      "\tTile 980/1190\n",
      "\tTile 990/1190\n",
      "\tTile 1000/1190\n",
      "\tTile 1010/1190\n",
      "\tTile 1020/1190\n",
      "\tTile 1030/1190\n",
      "\tTile 1040/1190\n",
      "\tTile 1050/1190\n",
      "\tTile 1060/1190\n",
      "\tTile 1070/1190\n",
      "\tTile 1080/1190\n",
      "\tTile 1090/1190\n",
      "\tTile 1100/1190\n",
      "\tTile 1110/1190\n",
      "\tTile 1120/1190\n",
      "\tTile 1130/1190\n",
      "\tTile 1140/1190\n",
      "\tTile 1150/1190\n",
      "\tTile 1160/1190\n",
      "\tTile 1170/1190\n",
      "\tTile 1180/1190\n",
      "\tTile 1190/1190\n"
     ]
    }
   ],
   "source": [
    "!nvidia-smi"
   ]
  },
  {
   "cell_type": "code",
   "execution_count": null,
   "id": "cf08f011",
   "metadata": {},
   "outputs": [],
   "source": []
  }
 ],
 "metadata": {
  "interpreter": {
   "hash": "d4d1e4263499bec80672ea0156c357c1ee493ec2b1c70f0acce89fc37c4a6abe"
  },
  "kernelspec": {
   "display_name": "Python [conda env:root] *",
   "language": "python",
   "name": "conda-root-py"
  },
  "language_info": {
   "codemirror_mode": {
    "name": "ipython",
    "version": 3
   },
   "file_extension": ".py",
   "mimetype": "text/x-python",
   "name": "python",
   "nbconvert_exporter": "python",
   "pygments_lexer": "ipython3",
   "version": "3.8.5"
  }
 },
 "nbformat": 4,
 "nbformat_minor": 5
}
